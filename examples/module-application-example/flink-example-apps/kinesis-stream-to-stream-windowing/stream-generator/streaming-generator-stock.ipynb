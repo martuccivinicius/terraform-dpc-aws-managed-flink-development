{
 "cells": [
  {
   "cell_type": "code",
   "execution_count": 15,
   "metadata": {},
   "outputs": [],
   "source": [
    "import datetime\n",
    "import json\n",
    "import random\n",
    "import boto3\n",
    "from time import sleep\n",
    "\n",
    "STREAM_NAME = \"martucci-kinesis-stream-firehose\"\n",
    "STREAM_REGION = \"us-east-1\"\n",
    "\n",
    "\n",
    "def get_data():\n",
    "    return {\n",
    "        'event_time': datetime.datetime.now().isoformat(),\n",
    "        'ticker': random.choice(['AAPL', 'AMZN', 'MSFT', 'INTC', 'TBV']),\n",
    "        'price': round(random.random() * 100, 2)\t}\n",
    "\n",
    "\n",
    "def generate(stream_name, kinesis_client):\n",
    "    while True:\n",
    "        sleep(1)\n",
    "        data = get_data()\n",
    "        print(data)\n",
    "        kinesis_client.put_record(\n",
    "            StreamName=stream_name,\n",
    "            Data=json.dumps(data),\n",
    "            PartitionKey=\"partitionkey\")"
   ]
  },
  {
   "cell_type": "code",
   "execution_count": 16,
   "metadata": {},
   "outputs": [
    {
     "name": "stdout",
     "output_type": "stream",
     "text": [
      "{'event_time': '2023-11-14T11:41:56.640052', 'ticker': 'INTC', 'price': 52.66}\n",
      "{'event_time': '2023-11-14T11:41:58.238100', 'ticker': 'TBV', 'price': 6.39}\n",
      "{'event_time': '2023-11-14T11:41:59.407232', 'ticker': 'AMZN', 'price': 35.22}\n",
      "{'event_time': '2023-11-14T11:42:00.550270', 'ticker': 'AMZN', 'price': 3.25}\n",
      "{'event_time': '2023-11-14T11:42:01.700804', 'ticker': 'INTC', 'price': 77.79}\n",
      "{'event_time': '2023-11-14T11:42:02.850035', 'ticker': 'MSFT', 'price': 20.76}\n",
      "{'event_time': '2023-11-14T11:42:03.997740', 'ticker': 'TBV', 'price': 4.48}\n",
      "{'event_time': '2023-11-14T11:42:05.147975', 'ticker': 'INTC', 'price': 22.3}\n",
      "{'event_time': '2023-11-14T11:42:06.308324', 'ticker': 'AMZN', 'price': 36.81}\n"
     ]
    },
    {
     "ename": "KeyboardInterrupt",
     "evalue": "",
     "output_type": "error",
     "traceback": [
      "\u001b[0;31m---------------------------------------------------------------------------\u001b[0m",
      "\u001b[0;31mKeyboardInterrupt\u001b[0m                         Traceback (most recent call last)",
      "\u001b[1;32m/Users/viniciusdeoliveiramartucci/Documents/GitHub/martucci-glue-streaming/auxiliar-scripts/streaming-generator/streaming-generator-stock.ipynb Cell 2\u001b[0m line \u001b[0;36m2\n\u001b[1;32m      <a href='vscode-notebook-cell:/Users/viniciusdeoliveiramartucci/Documents/GitHub/martucci-glue-streaming/auxiliar-scripts/streaming-generator/streaming-generator-stock.ipynb#W1sZmlsZQ%3D%3D?line=0'>1</a>\u001b[0m \u001b[39mif\u001b[39;00m \u001b[39m__name__\u001b[39m \u001b[39m==\u001b[39m \u001b[39m'\u001b[39m\u001b[39m__main__\u001b[39m\u001b[39m'\u001b[39m:\n\u001b[0;32m----> <a href='vscode-notebook-cell:/Users/viniciusdeoliveiramartucci/Documents/GitHub/martucci-glue-streaming/auxiliar-scripts/streaming-generator/streaming-generator-stock.ipynb#W1sZmlsZQ%3D%3D?line=1'>2</a>\u001b[0m     generate(STREAM_NAME, boto3\u001b[39m.\u001b[39;49mclient(\u001b[39m'\u001b[39;49m\u001b[39mkinesis\u001b[39;49m\u001b[39m'\u001b[39;49m, region_name\u001b[39m=\u001b[39;49mSTREAM_REGION))   \n",
      "\u001b[1;32m/Users/viniciusdeoliveiramartucci/Documents/GitHub/martucci-glue-streaming/auxiliar-scripts/streaming-generator/streaming-generator-stock.ipynb Cell 2\u001b[0m line \u001b[0;36m2\n\u001b[1;32m     <a href='vscode-notebook-cell:/Users/viniciusdeoliveiramartucci/Documents/GitHub/martucci-glue-streaming/auxiliar-scripts/streaming-generator/streaming-generator-stock.ipynb#W1sZmlsZQ%3D%3D?line=17'>18</a>\u001b[0m \u001b[39mdef\u001b[39;00m \u001b[39mgenerate\u001b[39m(stream_name, kinesis_client):\n\u001b[1;32m     <a href='vscode-notebook-cell:/Users/viniciusdeoliveiramartucci/Documents/GitHub/martucci-glue-streaming/auxiliar-scripts/streaming-generator/streaming-generator-stock.ipynb#W1sZmlsZQ%3D%3D?line=18'>19</a>\u001b[0m     \u001b[39mwhile\u001b[39;00m \u001b[39mTrue\u001b[39;00m:\n\u001b[0;32m---> <a href='vscode-notebook-cell:/Users/viniciusdeoliveiramartucci/Documents/GitHub/martucci-glue-streaming/auxiliar-scripts/streaming-generator/streaming-generator-stock.ipynb#W1sZmlsZQ%3D%3D?line=19'>20</a>\u001b[0m         sleep(\u001b[39m1\u001b[39;49m)\n\u001b[1;32m     <a href='vscode-notebook-cell:/Users/viniciusdeoliveiramartucci/Documents/GitHub/martucci-glue-streaming/auxiliar-scripts/streaming-generator/streaming-generator-stock.ipynb#W1sZmlsZQ%3D%3D?line=20'>21</a>\u001b[0m         data \u001b[39m=\u001b[39m get_data()\n\u001b[1;32m     <a href='vscode-notebook-cell:/Users/viniciusdeoliveiramartucci/Documents/GitHub/martucci-glue-streaming/auxiliar-scripts/streaming-generator/streaming-generator-stock.ipynb#W1sZmlsZQ%3D%3D?line=21'>22</a>\u001b[0m         \u001b[39mprint\u001b[39m(data)\n",
      "\u001b[0;31mKeyboardInterrupt\u001b[0m: "
     ]
    }
   ],
   "source": [
    "\n",
    "if __name__ == '__main__':\n",
    "    generate(STREAM_NAME, boto3.client('kinesis', region_name=STREAM_REGION))   "
   ]
  },
  {
   "cell_type": "code",
   "execution_count": null,
   "metadata": {},
   "outputs": [],
   "source": []
  }
 ],
 "metadata": {
  "kernelspec": {
   "display_name": "Python 3",
   "language": "python",
   "name": "python3"
  },
  "language_info": {
   "codemirror_mode": {
    "name": "ipython",
    "version": 3
   },
   "file_extension": ".py",
   "mimetype": "text/x-python",
   "name": "python",
   "nbconvert_exporter": "python",
   "pygments_lexer": "ipython3",
   "version": "3.9.6"
  }
 },
 "nbformat": 4,
 "nbformat_minor": 2
}
