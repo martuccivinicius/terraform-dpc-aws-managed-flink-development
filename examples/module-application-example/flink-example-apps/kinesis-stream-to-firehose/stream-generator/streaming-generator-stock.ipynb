{
 "cells": [
  {
   "cell_type": "code",
   "execution_count": 1,
   "metadata": {},
   "outputs": [],
   "source": [
    "import datetime\n",
    "import json\n",
    "import random\n",
    "import boto3\n",
    "from time import sleep\n",
    "\n",
    "STREAM_NAME = \"ks-managed-flink-example\"\n",
    "STREAM_REGION = \"us-east-1\"\n",
    "\n",
    "\n",
    "def get_data():\n",
    "    return {\n",
    "        'event_time': datetime.datetime.now().isoformat(),\n",
    "        'ticker': random.choice(['AAPL', 'AMZN', 'MSFT', 'INTC', 'TBV']),\n",
    "        'price': round(random.random() * 100, 2)\t}\n",
    "\n",
    "\n",
    "def generate(stream_name, kinesis_client):\n",
    "    while True:\n",
    "        sleep(1)\n",
    "        data = get_data()\n",
    "        print(data)\n",
    "        kinesis_client.put_record(\n",
    "            StreamName=stream_name,\n",
    "            Data=json.dumps(data),\n",
    "            PartitionKey=\"partitionkey\")"
   ]
  },
  {
   "cell_type": "code",
   "execution_count": 2,
   "metadata": {},
   "outputs": [
    {
     "name": "stdout",
     "output_type": "stream",
     "text": [
      "{'event_time': '2023-11-21T15:23:30.398012', 'ticker': 'TBV', 'price': 7.92}\n",
      "{'event_time': '2023-11-21T15:23:31.988437', 'ticker': 'INTC', 'price': 36.3}\n",
      "{'event_time': '2023-11-21T15:23:33.136396', 'ticker': 'INTC', 'price': 40.02}\n",
      "{'event_time': '2023-11-21T15:23:34.290316', 'ticker': 'TBV', 'price': 12.23}\n",
      "{'event_time': '2023-11-21T15:23:35.446890', 'ticker': 'TBV', 'price': 95.21}\n",
      "{'event_time': '2023-11-21T15:23:36.594414', 'ticker': 'AMZN', 'price': 87.56}\n",
      "{'event_time': '2023-11-21T15:23:37.752133', 'ticker': 'AAPL', 'price': 83.23}\n",
      "{'event_time': '2023-11-21T15:23:38.906581', 'ticker': 'MSFT', 'price': 86.36}\n",
      "{'event_time': '2023-11-21T15:23:40.060433', 'ticker': 'MSFT', 'price': 29.35}\n",
      "{'event_time': '2023-11-21T15:23:41.201790', 'ticker': 'TBV', 'price': 79.08}\n",
      "{'event_time': '2023-11-21T15:23:42.356597', 'ticker': 'AAPL', 'price': 76.86}\n",
      "{'event_time': '2023-11-21T15:23:43.504184', 'ticker': 'TBV', 'price': 99.16}\n",
      "{'event_time': '2023-11-21T15:23:44.648064', 'ticker': 'AAPL', 'price': 31.07}\n",
      "{'event_time': '2023-11-21T15:23:45.800410', 'ticker': 'AMZN', 'price': 50.24}\n",
      "{'event_time': '2023-11-21T15:23:46.946085', 'ticker': 'TBV', 'price': 14.15}\n",
      "{'event_time': '2023-11-21T15:23:48.098392', 'ticker': 'MSFT', 'price': 39.28}\n",
      "{'event_time': '2023-11-21T15:23:49.246073', 'ticker': 'AAPL', 'price': 2.64}\n",
      "{'event_time': '2023-11-21T15:23:50.397128', 'ticker': 'TBV', 'price': 4.47}\n",
      "{'event_time': '2023-11-21T15:23:51.552446', 'ticker': 'AMZN', 'price': 31.57}\n",
      "{'event_time': '2023-11-21T15:23:52.701994', 'ticker': 'AMZN', 'price': 50.26}\n",
      "{'event_time': '2023-11-21T15:23:53.851960', 'ticker': 'INTC', 'price': 12.59}\n",
      "{'event_time': '2023-11-21T15:23:55.009148', 'ticker': 'TBV', 'price': 86.98}\n",
      "{'event_time': '2023-11-21T15:23:56.154950', 'ticker': 'INTC', 'price': 95.15}\n",
      "{'event_time': '2023-11-21T15:23:57.301172', 'ticker': 'AAPL', 'price': 58.94}\n",
      "{'event_time': '2023-11-21T15:23:58.456971', 'ticker': 'AAPL', 'price': 55.48}\n"
     ]
    },
    {
     "ename": "KeyboardInterrupt",
     "evalue": "",
     "output_type": "error",
     "traceback": [
      "\u001b[0;31m---------------------------------------------------------------------------\u001b[0m",
      "\u001b[0;31mKeyboardInterrupt\u001b[0m                         Traceback (most recent call last)",
      "\u001b[1;32m/Users/viniciusdeoliveiramartucci/Documents/GitHub/martucci-glue-streaming/auxiliar-scripts/apache-flink/aws-flink/kinesis-stream-to-firehose/stream-generator/streaming-generator-stock.ipynb Cell 2\u001b[0m line \u001b[0;36m2\n\u001b[1;32m      <a href='vscode-notebook-cell:/Users/viniciusdeoliveiramartucci/Documents/GitHub/martucci-glue-streaming/auxiliar-scripts/apache-flink/aws-flink/kinesis-stream-to-firehose/stream-generator/streaming-generator-stock.ipynb#W1sZmlsZQ%3D%3D?line=0'>1</a>\u001b[0m \u001b[39mif\u001b[39;00m \u001b[39m__name__\u001b[39m \u001b[39m==\u001b[39m \u001b[39m'\u001b[39m\u001b[39m__main__\u001b[39m\u001b[39m'\u001b[39m:\n\u001b[0;32m----> <a href='vscode-notebook-cell:/Users/viniciusdeoliveiramartucci/Documents/GitHub/martucci-glue-streaming/auxiliar-scripts/apache-flink/aws-flink/kinesis-stream-to-firehose/stream-generator/streaming-generator-stock.ipynb#W1sZmlsZQ%3D%3D?line=1'>2</a>\u001b[0m     generate(STREAM_NAME, boto3\u001b[39m.\u001b[39;49mclient(\u001b[39m'\u001b[39;49m\u001b[39mkinesis\u001b[39;49m\u001b[39m'\u001b[39;49m, region_name\u001b[39m=\u001b[39;49mSTREAM_REGION))   \n",
      "\u001b[1;32m/Users/viniciusdeoliveiramartucci/Documents/GitHub/martucci-glue-streaming/auxiliar-scripts/apache-flink/aws-flink/kinesis-stream-to-firehose/stream-generator/streaming-generator-stock.ipynb Cell 2\u001b[0m line \u001b[0;36m2\n\u001b[1;32m     <a href='vscode-notebook-cell:/Users/viniciusdeoliveiramartucci/Documents/GitHub/martucci-glue-streaming/auxiliar-scripts/apache-flink/aws-flink/kinesis-stream-to-firehose/stream-generator/streaming-generator-stock.ipynb#W1sZmlsZQ%3D%3D?line=17'>18</a>\u001b[0m \u001b[39mdef\u001b[39;00m \u001b[39mgenerate\u001b[39m(stream_name, kinesis_client):\n\u001b[1;32m     <a href='vscode-notebook-cell:/Users/viniciusdeoliveiramartucci/Documents/GitHub/martucci-glue-streaming/auxiliar-scripts/apache-flink/aws-flink/kinesis-stream-to-firehose/stream-generator/streaming-generator-stock.ipynb#W1sZmlsZQ%3D%3D?line=18'>19</a>\u001b[0m     \u001b[39mwhile\u001b[39;00m \u001b[39mTrue\u001b[39;00m:\n\u001b[0;32m---> <a href='vscode-notebook-cell:/Users/viniciusdeoliveiramartucci/Documents/GitHub/martucci-glue-streaming/auxiliar-scripts/apache-flink/aws-flink/kinesis-stream-to-firehose/stream-generator/streaming-generator-stock.ipynb#W1sZmlsZQ%3D%3D?line=19'>20</a>\u001b[0m         sleep(\u001b[39m1\u001b[39;49m)\n\u001b[1;32m     <a href='vscode-notebook-cell:/Users/viniciusdeoliveiramartucci/Documents/GitHub/martucci-glue-streaming/auxiliar-scripts/apache-flink/aws-flink/kinesis-stream-to-firehose/stream-generator/streaming-generator-stock.ipynb#W1sZmlsZQ%3D%3D?line=20'>21</a>\u001b[0m         data \u001b[39m=\u001b[39m get_data()\n\u001b[1;32m     <a href='vscode-notebook-cell:/Users/viniciusdeoliveiramartucci/Documents/GitHub/martucci-glue-streaming/auxiliar-scripts/apache-flink/aws-flink/kinesis-stream-to-firehose/stream-generator/streaming-generator-stock.ipynb#W1sZmlsZQ%3D%3D?line=21'>22</a>\u001b[0m         \u001b[39mprint\u001b[39m(data)\n",
      "\u001b[0;31mKeyboardInterrupt\u001b[0m: "
     ]
    }
   ],
   "source": [
    "\n",
    "if __name__ == '__main__':\n",
    "    generate(STREAM_NAME, boto3.client('kinesis', region_name=STREAM_REGION))   "
   ]
  },
  {
   "cell_type": "code",
   "execution_count": null,
   "metadata": {},
   "outputs": [],
   "source": []
  },
  {
   "cell_type": "code",
   "execution_count": null,
   "metadata": {},
   "outputs": [],
   "source": []
  }
 ],
 "metadata": {
  "kernelspec": {
   "display_name": "Python 3",
   "language": "python",
   "name": "python3"
  },
  "language_info": {
   "codemirror_mode": {
    "name": "ipython",
    "version": 3
   },
   "file_extension": ".py",
   "mimetype": "text/x-python",
   "name": "python",
   "nbconvert_exporter": "python",
   "pygments_lexer": "ipython3",
   "version": "3.9.6"
  }
 },
 "nbformat": 4,
 "nbformat_minor": 2
}
