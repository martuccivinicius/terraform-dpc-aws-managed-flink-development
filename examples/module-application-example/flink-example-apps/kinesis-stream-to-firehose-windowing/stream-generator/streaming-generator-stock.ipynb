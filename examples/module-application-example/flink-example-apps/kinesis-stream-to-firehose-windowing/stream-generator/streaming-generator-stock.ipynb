{
 "cells": [
  {
   "cell_type": "code",
   "execution_count": 3,
   "metadata": {},
   "outputs": [],
   "source": [
    "import datetime\n",
    "import json\n",
    "import random\n",
    "import boto3\n",
    "from time import sleep\n",
    "\n",
    "STREAM_NAME = \"ks-managed-flink-example\"\n",
    "STREAM_REGION = \"us-east-1\"\n",
    "\n",
    "\n",
    "def get_data():\n",
    "    return {\n",
    "        'event_time': datetime.datetime.now().isoformat(),\n",
    "        'ticker': random.choice(['AAPL', 'AMZN', 'MSFT', 'INTC', 'TBV']),\n",
    "        'price': round(random.random() * 100, 2)\t}\n",
    "\n",
    "\n",
    "def generate(stream_name, kinesis_client):\n",
    "    while True:\n",
    "        sleep(1)\n",
    "        data = get_data()\n",
    "        print(data)\n",
    "        kinesis_client.put_record(\n",
    "            StreamName=stream_name,\n",
    "            Data=json.dumps(data),\n",
    "            PartitionKey=\"partitionkey\")"
   ]
  },
  {
   "cell_type": "code",
   "execution_count": 4,
   "metadata": {},
   "outputs": [
    {
     "name": "stdout",
     "output_type": "stream",
     "text": [
      "{'event_time': '2023-11-22T12:26:28.399198', 'ticker': 'AMZN', 'price': 54.25}\n",
      "{'event_time': '2023-11-22T12:26:29.991793', 'ticker': 'INTC', 'price': 30.3}\n",
      "{'event_time': '2023-11-22T12:26:31.144582', 'ticker': 'INTC', 'price': 51.43}\n",
      "{'event_time': '2023-11-22T12:26:32.288317', 'ticker': 'MSFT', 'price': 10.63}\n",
      "{'event_time': '2023-11-22T12:26:33.430848', 'ticker': 'INTC', 'price': 13.27}\n",
      "{'event_time': '2023-11-22T12:26:34.580890', 'ticker': 'AAPL', 'price': 99.82}\n",
      "{'event_time': '2023-11-22T12:26:35.727219', 'ticker': 'MSFT', 'price': 50.68}\n",
      "{'event_time': '2023-11-22T12:26:36.870727', 'ticker': 'AAPL', 'price': 80.84}\n",
      "{'event_time': '2023-11-22T12:26:38.012584', 'ticker': 'AAPL', 'price': 85.54}\n",
      "{'event_time': '2023-11-22T12:26:39.159306', 'ticker': 'AAPL', 'price': 33.93}\n",
      "{'event_time': '2023-11-22T12:26:40.311639', 'ticker': 'AAPL', 'price': 52.57}\n",
      "{'event_time': '2023-11-22T12:26:41.452955', 'ticker': 'AAPL', 'price': 24.45}\n",
      "{'event_time': '2023-11-22T12:26:42.599994', 'ticker': 'INTC', 'price': 15.73}\n",
      "{'event_time': '2023-11-22T12:26:43.748647', 'ticker': 'AAPL', 'price': 24.89}\n",
      "{'event_time': '2023-11-22T12:26:44.896680', 'ticker': 'INTC', 'price': 60.75}\n",
      "{'event_time': '2023-11-22T12:26:46.048020', 'ticker': 'AAPL', 'price': 99.47}\n",
      "{'event_time': '2023-11-22T12:26:47.272259', 'ticker': 'MSFT', 'price': 16.31}\n",
      "{'event_time': '2023-11-22T12:26:48.422514', 'ticker': 'AMZN', 'price': 2.44}\n",
      "{'event_time': '2023-11-22T12:26:49.577411', 'ticker': 'AMZN', 'price': 83.36}\n",
      "{'event_time': '2023-11-22T12:26:50.721870', 'ticker': 'MSFT', 'price': 51.03}\n",
      "{'event_time': '2023-11-22T12:26:51.876092', 'ticker': 'INTC', 'price': 65.9}\n",
      "{'event_time': '2023-11-22T12:26:53.022832', 'ticker': 'INTC', 'price': 71.4}\n",
      "{'event_time': '2023-11-22T12:26:54.176069', 'ticker': 'INTC', 'price': 86.6}\n",
      "{'event_time': '2023-11-22T12:26:55.320890', 'ticker': 'MSFT', 'price': 65.9}\n",
      "{'event_time': '2023-11-22T12:26:56.469195', 'ticker': 'MSFT', 'price': 5.31}\n",
      "{'event_time': '2023-11-22T12:26:57.616385', 'ticker': 'AMZN', 'price': 35.02}\n",
      "{'event_time': '2023-11-22T12:26:58.762213', 'ticker': 'TBV', 'price': 12.8}\n",
      "{'event_time': '2023-11-22T12:26:59.905110', 'ticker': 'AAPL', 'price': 39.52}\n",
      "{'event_time': '2023-11-22T12:27:01.045329', 'ticker': 'INTC', 'price': 55.44}\n",
      "{'event_time': '2023-11-22T12:27:02.188027', 'ticker': 'INTC', 'price': 42.05}\n",
      "{'event_time': '2023-11-22T12:27:03.336431', 'ticker': 'MSFT', 'price': 95.45}\n",
      "{'event_time': '2023-11-22T12:27:04.480749', 'ticker': 'AMZN', 'price': 40.82}\n",
      "{'event_time': '2023-11-22T12:27:05.627659', 'ticker': 'AAPL', 'price': 43.19}\n",
      "{'event_time': '2023-11-22T12:27:06.771188', 'ticker': 'AMZN', 'price': 63.03}\n",
      "{'event_time': '2023-11-22T12:27:07.920091', 'ticker': 'MSFT', 'price': 70.23}\n",
      "{'event_time': '2023-11-22T12:27:09.066038', 'ticker': 'TBV', 'price': 50.84}\n",
      "{'event_time': '2023-11-22T12:27:10.211054', 'ticker': 'MSFT', 'price': 91.74}\n",
      "{'event_time': '2023-11-22T12:27:11.353309', 'ticker': 'INTC', 'price': 66.84}\n",
      "{'event_time': '2023-11-22T12:27:12.503271', 'ticker': 'TBV', 'price': 9.71}\n",
      "{'event_time': '2023-11-22T12:27:13.650261', 'ticker': 'INTC', 'price': 41.98}\n",
      "{'event_time': '2023-11-22T12:27:14.796998', 'ticker': 'INTC', 'price': 23.32}\n",
      "{'event_time': '2023-11-22T12:27:15.938744', 'ticker': 'MSFT', 'price': 28.96}\n"
     ]
    },
    {
     "ename": "KeyboardInterrupt",
     "evalue": "",
     "output_type": "error",
     "traceback": [
      "\u001b[0;31m---------------------------------------------------------------------------\u001b[0m",
      "\u001b[0;31mKeyboardInterrupt\u001b[0m                         Traceback (most recent call last)",
      "\u001b[1;32m/Users/viniciusdeoliveiramartucci/Documents/GitHub/martucci-glue-streaming/auxiliar-scripts/apache-flink/aws-flink/kinesis-stream-to-firehose-windowing/stream-generator/streaming-generator-stock.ipynb Cell 2\u001b[0m line \u001b[0;36m2\n\u001b[1;32m      <a href='vscode-notebook-cell:/Users/viniciusdeoliveiramartucci/Documents/GitHub/martucci-glue-streaming/auxiliar-scripts/apache-flink/aws-flink/kinesis-stream-to-firehose-windowing/stream-generator/streaming-generator-stock.ipynb#W1sZmlsZQ%3D%3D?line=0'>1</a>\u001b[0m \u001b[39mif\u001b[39;00m \u001b[39m__name__\u001b[39m \u001b[39m==\u001b[39m \u001b[39m'\u001b[39m\u001b[39m__main__\u001b[39m\u001b[39m'\u001b[39m:\n\u001b[0;32m----> <a href='vscode-notebook-cell:/Users/viniciusdeoliveiramartucci/Documents/GitHub/martucci-glue-streaming/auxiliar-scripts/apache-flink/aws-flink/kinesis-stream-to-firehose-windowing/stream-generator/streaming-generator-stock.ipynb#W1sZmlsZQ%3D%3D?line=1'>2</a>\u001b[0m     generate(STREAM_NAME, boto3\u001b[39m.\u001b[39;49mclient(\u001b[39m'\u001b[39;49m\u001b[39mkinesis\u001b[39;49m\u001b[39m'\u001b[39;49m, region_name\u001b[39m=\u001b[39;49mSTREAM_REGION))   \n",
      "\u001b[1;32m/Users/viniciusdeoliveiramartucci/Documents/GitHub/martucci-glue-streaming/auxiliar-scripts/apache-flink/aws-flink/kinesis-stream-to-firehose-windowing/stream-generator/streaming-generator-stock.ipynb Cell 2\u001b[0m line \u001b[0;36m2\n\u001b[1;32m     <a href='vscode-notebook-cell:/Users/viniciusdeoliveiramartucci/Documents/GitHub/martucci-glue-streaming/auxiliar-scripts/apache-flink/aws-flink/kinesis-stream-to-firehose-windowing/stream-generator/streaming-generator-stock.ipynb#W1sZmlsZQ%3D%3D?line=17'>18</a>\u001b[0m \u001b[39mdef\u001b[39;00m \u001b[39mgenerate\u001b[39m(stream_name, kinesis_client):\n\u001b[1;32m     <a href='vscode-notebook-cell:/Users/viniciusdeoliveiramartucci/Documents/GitHub/martucci-glue-streaming/auxiliar-scripts/apache-flink/aws-flink/kinesis-stream-to-firehose-windowing/stream-generator/streaming-generator-stock.ipynb#W1sZmlsZQ%3D%3D?line=18'>19</a>\u001b[0m     \u001b[39mwhile\u001b[39;00m \u001b[39mTrue\u001b[39;00m:\n\u001b[0;32m---> <a href='vscode-notebook-cell:/Users/viniciusdeoliveiramartucci/Documents/GitHub/martucci-glue-streaming/auxiliar-scripts/apache-flink/aws-flink/kinesis-stream-to-firehose-windowing/stream-generator/streaming-generator-stock.ipynb#W1sZmlsZQ%3D%3D?line=19'>20</a>\u001b[0m         sleep(\u001b[39m1\u001b[39;49m)\n\u001b[1;32m     <a href='vscode-notebook-cell:/Users/viniciusdeoliveiramartucci/Documents/GitHub/martucci-glue-streaming/auxiliar-scripts/apache-flink/aws-flink/kinesis-stream-to-firehose-windowing/stream-generator/streaming-generator-stock.ipynb#W1sZmlsZQ%3D%3D?line=20'>21</a>\u001b[0m         data \u001b[39m=\u001b[39m get_data()\n\u001b[1;32m     <a href='vscode-notebook-cell:/Users/viniciusdeoliveiramartucci/Documents/GitHub/martucci-glue-streaming/auxiliar-scripts/apache-flink/aws-flink/kinesis-stream-to-firehose-windowing/stream-generator/streaming-generator-stock.ipynb#W1sZmlsZQ%3D%3D?line=21'>22</a>\u001b[0m         \u001b[39mprint\u001b[39m(data)\n",
      "\u001b[0;31mKeyboardInterrupt\u001b[0m: "
     ]
    }
   ],
   "source": [
    "\n",
    "if __name__ == '__main__':\n",
    "    generate(STREAM_NAME, boto3.client('kinesis', region_name=STREAM_REGION))   "
   ]
  },
  {
   "cell_type": "code",
   "execution_count": null,
   "metadata": {},
   "outputs": [],
   "source": []
  }
 ],
 "metadata": {
  "kernelspec": {
   "display_name": "Python 3",
   "language": "python",
   "name": "python3"
  },
  "language_info": {
   "codemirror_mode": {
    "name": "ipython",
    "version": 3
   },
   "file_extension": ".py",
   "mimetype": "text/x-python",
   "name": "python",
   "nbconvert_exporter": "python",
   "pygments_lexer": "ipython3",
   "version": "3.9.6"
  }
 },
 "nbformat": 4,
 "nbformat_minor": 2
}
