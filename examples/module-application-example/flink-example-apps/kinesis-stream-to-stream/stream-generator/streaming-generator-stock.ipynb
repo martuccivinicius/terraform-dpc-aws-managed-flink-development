{
 "cells": [
  {
   "cell_type": "code",
   "execution_count": 11,
   "metadata": {},
   "outputs": [],
   "source": [
    "import datetime\n",
    "import json\n",
    "import random\n",
    "import boto3\n",
    "from time import sleep\n",
    "\n",
    "STREAM_NAME = \"martucci-kinesis-stream-firehose\"\n",
    "STREAM_REGION = \"us-east-1\"\n",
    "\n",
    "\n",
    "def get_data():\n",
    "    return {\n",
    "        'event_time': datetime.datetime.now().isoformat(),\n",
    "        'ticker': random.choice(['AAPL', 'AMZN', 'MSFT', 'INTC', 'TBV']),\n",
    "        'price': round(random.random() * 100, 2)\t}\n",
    "\n",
    "\n",
    "def generate(stream_name, kinesis_client):\n",
    "    while True:\n",
    "        sleep(1)\n",
    "        data = get_data()\n",
    "        print(data)\n",
    "        kinesis_client.put_record(\n",
    "            StreamName=stream_name,\n",
    "            Data=json.dumps(data),\n",
    "            PartitionKey=\"partitionkey\")"
   ]
  },
  {
   "cell_type": "code",
   "execution_count": 12,
   "metadata": {},
   "outputs": [
    {
     "name": "stdout",
     "output_type": "stream",
     "text": [
      "{'event_time': '2023-11-16T22:28:59.172606', 'ticker': 'AMZN', 'price': 38.0}\n",
      "{'event_time': '2023-11-16T22:29:00.734548', 'ticker': 'MSFT', 'price': 26.32}\n",
      "{'event_time': '2023-11-16T22:29:01.876883', 'ticker': 'MSFT', 'price': 37.06}\n",
      "{'event_time': '2023-11-16T22:29:03.021109', 'ticker': 'MSFT', 'price': 75.82}\n",
      "{'event_time': '2023-11-16T22:29:04.162338', 'ticker': 'TBV', 'price': 56.57}\n",
      "{'event_time': '2023-11-16T22:29:05.305829', 'ticker': 'MSFT', 'price': 39.96}\n",
      "{'event_time': '2023-11-16T22:29:06.450889', 'ticker': 'TBV', 'price': 77.54}\n",
      "{'event_time': '2023-11-16T22:29:07.594533', 'ticker': 'INTC', 'price': 88.83}\n",
      "{'event_time': '2023-11-16T22:29:08.740565', 'ticker': 'TBV', 'price': 98.16}\n",
      "{'event_time': '2023-11-16T22:29:09.886458', 'ticker': 'TBV', 'price': 93.75}\n",
      "{'event_time': '2023-11-16T22:29:11.028382', 'ticker': 'MSFT', 'price': 21.11}\n",
      "{'event_time': '2023-11-16T22:29:12.173928', 'ticker': 'AAPL', 'price': 12.5}\n",
      "{'event_time': '2023-11-16T22:29:13.319081', 'ticker': 'MSFT', 'price': 70.32}\n",
      "{'event_time': '2023-11-16T22:29:14.459394', 'ticker': 'TBV', 'price': 47.52}\n",
      "{'event_time': '2023-11-16T22:29:15.598521', 'ticker': 'TBV', 'price': 76.23}\n"
     ]
    },
    {
     "ename": "KeyboardInterrupt",
     "evalue": "",
     "output_type": "error",
     "traceback": [
      "\u001b[0;31m---------------------------------------------------------------------------\u001b[0m",
      "\u001b[0;31mKeyboardInterrupt\u001b[0m                         Traceback (most recent call last)",
      "\u001b[1;32m/Users/viniciusdeoliveiramartucci/Documents/GitHub/martucci-glue-streaming/auxiliar-scripts/apache-flink/tutorial-aws-flink/kinesis-stream-to-stream/stream-generator/streaming-generator-stock.ipynb Cell 2\u001b[0m line \u001b[0;36m2\n\u001b[1;32m      <a href='vscode-notebook-cell:/Users/viniciusdeoliveiramartucci/Documents/GitHub/martucci-glue-streaming/auxiliar-scripts/apache-flink/tutorial-aws-flink/kinesis-stream-to-stream/stream-generator/streaming-generator-stock.ipynb#W1sZmlsZQ%3D%3D?line=0'>1</a>\u001b[0m \u001b[39mif\u001b[39;00m \u001b[39m__name__\u001b[39m \u001b[39m==\u001b[39m \u001b[39m'\u001b[39m\u001b[39m__main__\u001b[39m\u001b[39m'\u001b[39m:\n\u001b[0;32m----> <a href='vscode-notebook-cell:/Users/viniciusdeoliveiramartucci/Documents/GitHub/martucci-glue-streaming/auxiliar-scripts/apache-flink/tutorial-aws-flink/kinesis-stream-to-stream/stream-generator/streaming-generator-stock.ipynb#W1sZmlsZQ%3D%3D?line=1'>2</a>\u001b[0m     generate(STREAM_NAME, boto3\u001b[39m.\u001b[39;49mclient(\u001b[39m'\u001b[39;49m\u001b[39mkinesis\u001b[39;49m\u001b[39m'\u001b[39;49m, region_name\u001b[39m=\u001b[39;49mSTREAM_REGION))   \n",
      "\u001b[1;32m/Users/viniciusdeoliveiramartucci/Documents/GitHub/martucci-glue-streaming/auxiliar-scripts/apache-flink/tutorial-aws-flink/kinesis-stream-to-stream/stream-generator/streaming-generator-stock.ipynb Cell 2\u001b[0m line \u001b[0;36m2\n\u001b[1;32m     <a href='vscode-notebook-cell:/Users/viniciusdeoliveiramartucci/Documents/GitHub/martucci-glue-streaming/auxiliar-scripts/apache-flink/tutorial-aws-flink/kinesis-stream-to-stream/stream-generator/streaming-generator-stock.ipynb#W1sZmlsZQ%3D%3D?line=17'>18</a>\u001b[0m \u001b[39mdef\u001b[39;00m \u001b[39mgenerate\u001b[39m(stream_name, kinesis_client):\n\u001b[1;32m     <a href='vscode-notebook-cell:/Users/viniciusdeoliveiramartucci/Documents/GitHub/martucci-glue-streaming/auxiliar-scripts/apache-flink/tutorial-aws-flink/kinesis-stream-to-stream/stream-generator/streaming-generator-stock.ipynb#W1sZmlsZQ%3D%3D?line=18'>19</a>\u001b[0m     \u001b[39mwhile\u001b[39;00m \u001b[39mTrue\u001b[39;00m:\n\u001b[0;32m---> <a href='vscode-notebook-cell:/Users/viniciusdeoliveiramartucci/Documents/GitHub/martucci-glue-streaming/auxiliar-scripts/apache-flink/tutorial-aws-flink/kinesis-stream-to-stream/stream-generator/streaming-generator-stock.ipynb#W1sZmlsZQ%3D%3D?line=19'>20</a>\u001b[0m         sleep(\u001b[39m1\u001b[39;49m)\n\u001b[1;32m     <a href='vscode-notebook-cell:/Users/viniciusdeoliveiramartucci/Documents/GitHub/martucci-glue-streaming/auxiliar-scripts/apache-flink/tutorial-aws-flink/kinesis-stream-to-stream/stream-generator/streaming-generator-stock.ipynb#W1sZmlsZQ%3D%3D?line=20'>21</a>\u001b[0m         data \u001b[39m=\u001b[39m get_data()\n\u001b[1;32m     <a href='vscode-notebook-cell:/Users/viniciusdeoliveiramartucci/Documents/GitHub/martucci-glue-streaming/auxiliar-scripts/apache-flink/tutorial-aws-flink/kinesis-stream-to-stream/stream-generator/streaming-generator-stock.ipynb#W1sZmlsZQ%3D%3D?line=21'>22</a>\u001b[0m         \u001b[39mprint\u001b[39m(data)\n",
      "\u001b[0;31mKeyboardInterrupt\u001b[0m: "
     ]
    }
   ],
   "source": [
    "\n",
    "if __name__ == '__main__':\n",
    "    generate(STREAM_NAME, boto3.client('kinesis', region_name=STREAM_REGION))   "
   ]
  },
  {
   "cell_type": "code",
   "execution_count": null,
   "metadata": {},
   "outputs": [],
   "source": []
  }
 ],
 "metadata": {
  "kernelspec": {
   "display_name": "Python 3",
   "language": "python",
   "name": "python3"
  },
  "language_info": {
   "codemirror_mode": {
    "name": "ipython",
    "version": 3
   },
   "file_extension": ".py",
   "mimetype": "text/x-python",
   "name": "python",
   "nbconvert_exporter": "python",
   "pygments_lexer": "ipython3",
   "version": "3.9.6"
  }
 },
 "nbformat": 4,
 "nbformat_minor": 2
}
